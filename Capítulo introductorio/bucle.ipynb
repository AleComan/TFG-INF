{
 "cells": [
  {
   "cell_type": "code",
   "execution_count": 2,
   "metadata": {},
   "outputs": [],
   "source": [
    "from openai import OpenAI\n",
    "import csv\n",
    "\n",
    "API_KEY = \"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\"\n",
    "\n",
    "model_chatgpt=\"openai/gpt-4o\"\n",
    "model_deepseek=\"deepseek/deepseek-chat-v3-0324\"\n",
    "model_gemini=\"google/gemini-2.0-flash-001\"\n",
    "model_claude=\"anthropic/claude-3.7-sonnet\""
   ]
  },
  {
   "cell_type": "code",
   "execution_count": null,
   "metadata": {},
   "outputs": [],
   "source": [
    "client = OpenAI(\n",
    "  base_url=\"https://openrouter.ai/api/v1\",\n",
    "  api_key=API_KEY,\n",
    ")\n",
    "\n",
    "modelos = [\n",
    "    \"openai/gpt-4o\",\n",
    "    \"deepseek/deepseek-chat-v3-0324\",\n",
    "    \"google/gemini-2.0-flash-001\",\n",
    "    \"anthropic/claude-3.7-sonnet\"\n",
    "]\n",
    "\n",
    "preguntas = [\n",
    "    \"¿Qué es lo que ponen las gallinas?\",\n",
    "    \"¿Cuánto es la raíz cuadrada de 4?\",\n",
    "    \"¿Cuántas caras tiene un dado?\",\n",
    "    \"¿Quién inventó la bombilla?\",\n",
    "    \"Dame una lista de 5 ingredientes para una ensalada.\"\n",
    "]\n",
    "\n",
    "resultados = []"
   ]
  },
  {
   "cell_type": "code",
   "execution_count": null,
   "metadata": {},
   "outputs": [],
   "source": [
    "resultados = []\n",
    "\n",
    "for modelo in modelos:\n",
    "    for pregunta in preguntas:\n",
    "        completion = client.chat.completions.create(\n",
    "            extra_body={},\n",
    "            model=modelo,\n",
    "            messages=[\n",
    "                {\n",
    "                    \"role\": \"user\",\n",
    "                    \"content\": [\n",
    "                        {\n",
    "                            \"type\": \"text\",\n",
    "                            \"text\": pregunta\n",
    "                        }\n",
    "                    ]\n",
    "                }\n",
    "            ]\n",
    "        )\n",
    "\n",
    "        respuesta_texto = completion.choices[0].message.content\n",
    "\n",
    "        resultados.append({\n",
    "            \"Modelo\": modelo,\n",
    "            \"Pregunta\": pregunta,\n",
    "            \"Respuesta\": respuesta_texto\n",
    "        })"
   ]
  },
  {
   "cell_type": "code",
   "execution_count": 7,
   "metadata": {},
   "outputs": [
    {
     "data": {
      "text/plain": [
       "[{'Modelo': 'openai/gpt-4o',\n",
       "  'Pregunta': '¿Qué es lo que ponen las gallinas?',\n",
       "  'Respuesta': 'Las gallinas ponen huevos. Estos huevos pueden ser utilizados para consumo humano en diversas preparaciones culinarias o para la incubación con el fin de criar más pollitos.'},\n",
       " {'Modelo': 'openai/gpt-4o',\n",
       "  'Pregunta': '¿Cuánto es la raíz cuadrada de 4?',\n",
       "  'Respuesta': 'La raíz cuadrada de 4 es 2.'},\n",
       " {'Modelo': 'openai/gpt-4o',\n",
       "  'Pregunta': '¿Cuántas caras tiene un dado?',\n",
       "  'Respuesta': 'Un dado tradicional, utilizado comúnmente en juegos de mesa, tiene 6 caras. Cada cara está numerada del 1 al 6. Sin embargo, también existen dados con un número diferente de caras, como los de 4, 8, 10, 12 y 20 caras, que se utilizan en algunos juegos de rol y otros juegos de azar.'},\n",
       " {'Modelo': 'openai/gpt-4o',\n",
       "  'Pregunta': '¿Quién inventó la bombilla?',\n",
       "  'Respuesta': 'La invención de la bombilla incandescente suele ser atribuida a Thomas Edison, quien patentó su versión en 1879 y logró comercializarla con éxito. Sin embargo, es importante mencionar que otros inventores también contribuyeron al desarrollo de este dispositivo. Por ejemplo, Joseph Swan, un físico y químico británico, desarrolló una versión temprana de la bombilla y obtuvo una patente en el Reino Unido en 1878. Eventualmente, Edison y Swan formaron una empresa conjunta para producir bombillas en el Reino Unido. Además, otros inventores como Sir Humphry Davy y Warren de la Rue jugaron papeles importantes en los principios de la iluminación eléctrica.'},\n",
       " {'Modelo': 'openai/gpt-4o',\n",
       "  'Pregunta': 'Dame una lista de 5 ingredientes para una ensalada.',\n",
       "  'Respuesta': 'Claro, aquí tienes una lista de cinco ingredientes que puedes usar para hacer una ensalada:\\n\\n1. Lechuga (puede ser romana, iceberg o la que prefieras)\\n2. Tomate \\n3. Pepino\\n4. Zanahoria rallada\\n5. Aguacate\\n\\nEstos ingredientes básicos pueden combinarse con otros dependiendo de tus gustos personales. ¡Disfruta de tu ensalada!'},\n",
       " {'Modelo': 'deepseek/deepseek-chat-v3-0324',\n",
       "  'Pregunta': '¿Qué es lo que ponen las gallinas?',\n",
       "  'Respuesta': 'Las gallinas ponen **huevos**. 🥚  \\n\\nEstos pueden ser de diferentes tamaños y colores según la raza de la gallina. Los huevos son una fuente importante de alimento para los humanos, ya que contienen proteínas, vitaminas y otros nutrientes esenciales.  \\n\\nSi te refieres a otra cosa con tu pregunta, ¡avísame! 😊'},\n",
       " {'Modelo': 'deepseek/deepseek-chat-v3-0324',\n",
       "  'Pregunta': '¿Cuánto es la raíz cuadrada de 4?',\n",
       "  'Respuesta': 'La raíz cuadrada de 4 es **2**, ya que \\\\( 2 \\\\times 2 = 4 \\\\).  \\n\\nTambién existe la raíz cuadrada negativa, que es **-2**, porque \\\\( (-2) \\\\times (-2) = 4 \\\\).  \\n\\nEn general, la raíz cuadrada principal (no negativa) de 4 se representa como \\\\( \\\\sqrt{4} = 2 \\\\).  \\n\\n**Respuesta:**  \\n\\\\[\\n\\\\sqrt{4} = \\\\pm 2\\n\\\\]  \\n(Donde \\\\( \\\\pm \\\\) indica que puede ser 2 o -2).'},\n",
       " {'Modelo': 'deepseek/deepseek-chat-v3-0324',\n",
       "  'Pregunta': '¿Cuántas caras tiene un dado?',\n",
       "  'Respuesta': 'Un dado estándar tiene **6 caras**. Cada una de estas caras está numerada del **1 al 6**, con puntos (pips) que representan estos números. La disposición de los puntos en las caras opuestas del dado siempre suma **7**, es decir:\\n\\n- 1 (opuesto a 6)\\n- 2 (opuesto a 5)\\n- 3 (opuesto a 4)\\n\\nEsta configuración es la más común en los dados cúbicos utilizados en juegos de mesa y otros entretenimientos. Si el dado tiene una forma diferente (como un dodecaedro), podría tener más caras, pero en su forma clásica, la respuesta es **6 caras**.'},\n",
       " {'Modelo': 'deepseek/deepseek-chat-v3-0324',\n",
       "  'Pregunta': '¿Quién inventó la bombilla?',\n",
       "  'Respuesta': 'La bombilla eléctrica incandescente fue perfeccionada y popularizada por **Thomas Alva Edison** en 1879, aunque no fue el único inventor involucrado en su desarrollo. Aquí hay algunos detalles clave:\\n\\n1. **Contribución de Edison**:  \\n   - Edison logró crear una bombilla práctica y duradera usando un filamento de carbono dentro de un vacío, que podía funcionar durante más de 40 horas.  \\n   - Patentó su diseño en 1880 y trabajó en mejorar la infraestructura (como generadores y cables) para hacer viable la iluminación eléctrica.\\n\\n2. **Predecesores importantes**:  \\n   - **Humphry Davy** (1802): Creó la primera lámpara de arco eléctrico, pero no era práctica para uso doméstico.  \\n   - **Warren de la Rue** (1840): Usó un filamento de platino en un vacío, pero el costo era prohibitivo.  \\n   - **Joseph Swan** (1878): Desarrolló una bombilla similar en Inglaterra, pero con problemas de duración. Más tarde, Swan y Edison colaboraron.  \\n\\n3. **Disputas de patentes**:  \\n   - Hubo controversias sobre la autoría, ya que otros inventores (como Swan, Henry Goebel y Alessandro Cruto) hicieron contribuciones paralelas. Finalmente, Edison y Swan formaron una empresa conjunta en Reino Unido.\\n\\n**En resumen**: Edison fue clave en hacer la bombilla comercialmente viable, aunque el invento fue el resultado de un proceso acumulativo con múltiples contribuyentes.'},\n",
       " {'Modelo': 'deepseek/deepseek-chat-v3-0324',\n",
       "  'Pregunta': 'Dame una lista de 5 ingredientes para una ensalada.',\n",
       "  'Respuesta': '¡Claro! Aquí tienes una lista de 5 ingredientes deliciosos y saludables para una ensalada fresca:  \\n\\n1. **Lechuga** (puede ser romana, iceberg, o mezcla de hojas verdes).  \\n2. **Tomate** (cherry o en rodajas).  \\n3. **Pepino** (cortado en rodajas o cubos).  \\n4. **Aguacate** (en trozos para cremosidad).  \\n5. **Queso fresco** (como feta, queso de cabra o mozzarella).  \\n\\nSi quieres, puedes agregar proteína (pollo, atún o garbanzos) o un aderezo ligero (limón, aceite de oliva y sal). ¡Bon appetit! 😊'},\n",
       " {'Modelo': 'google/gemini-2.0-flash-001',\n",
       "  'Pregunta': '¿Qué es lo que ponen las gallinas?',\n",
       "  'Respuesta': 'Las gallinas ponen **huevos**.\\n'},\n",
       " {'Modelo': 'google/gemini-2.0-flash-001',\n",
       "  'Pregunta': '¿Cuánto es la raíz cuadrada de 4?',\n",
       "  'Respuesta': 'La raíz cuadrada de 4 es **2**.\\n'},\n",
       " {'Modelo': 'google/gemini-2.0-flash-001',\n",
       "  'Pregunta': '¿Cuántas caras tiene un dado?',\n",
       "  'Respuesta': 'Un dado estándar tiene **seis** caras.\\n'},\n",
       " {'Modelo': 'google/gemini-2.0-flash-001',\n",
       "  'Pregunta': '¿Quién inventó la bombilla?',\n",
       "  'Respuesta': 'La historia de la invención de la bombilla es un poco más compleja de lo que se cree. No hubo una sola persona que \"inventó\" la bombilla. Hubo muchos inventores que contribuyeron al desarrollo de la bombilla tal como la conocemos hoy en día.\\n\\nAquí te presento un resumen:\\n\\n*   **Antecedentes:** Antes de Edison, muchos inventores ya habían experimentado con la iluminación eléctrica, creando los prototipos primitivos de las bombillas. Algunos ejemplos son:\\n    *   **Humphry Davy:** En 1802, creó una lámpara de arco, uno de los primeros dispositivos de iluminación eléctrica.\\n    *   **Warren de la Rue:** En 1840, creó una bombilla con un filamento de platino enrollado al vacío. Aunque funcionaba, era muy cara de producir.\\n\\n*   **Thomas Edison:** En 1879, Thomas Edison patentó una bombilla incandescente práctica y comercialmente viable. Su bombilla utilizaba un filamento de carbono y tenía una vida útil significativamente más larga que los intentos anteriores. Es importante destacar que:\\n    *   **Edison no inventó la primera bombilla, pero sí inventó la primera bombilla práctica que podía ser producida en masa.**\\n    *   Edison también desarrolló un sistema completo de distribución de electricidad, lo que hizo posible que su bombilla se utilizara en hogares y negocios.\\n\\nEn resumen, es más correcto decir que **Thomas Edison perfeccionó y comercializó la bombilla incandescente** y creó un sistema para su uso generalizado, en lugar de decir que simplemente la \"inventó\".\\n\\nPor lo tanto, la respuesta corta y común es **Thomas Edison**, pero es importante entender el contexto histórico y la contribución de otros inventores.\\n'},\n",
       " {'Modelo': 'google/gemini-2.0-flash-001',\n",
       "  'Pregunta': 'Dame una lista de 5 ingredientes para una ensalada.',\n",
       "  'Respuesta': '¡Claro! Aquí tienes una lista de 5 ingredientes para una ensalada:\\n\\n1.  **Lechuga romana:** Una base crujiente y refrescante.\\n2.  **Tomates cherry:** Dulces y jugosos, aportan color y sabor.\\n3.  **Pepino:** Fresco y crujiente, añade un toque refrescante.\\n4.  **Cebolla roja:** Un toque de sabor picante y un color vibrante.\\n5.  **Queso feta:** Salado y cremoso, para un contraste de sabores delicioso.\\n'},\n",
       " {'Modelo': 'anthropic/claude-3.7-sonnet',\n",
       "  'Pregunta': '¿Qué es lo que ponen las gallinas?',\n",
       "  'Respuesta': 'Las gallinas ponen huevos. Esto es parte de su proceso reproductivo natural. Una gallina puede poner aproximadamente un huevo cada 24-26 horas durante sus períodos productivos.'},\n",
       " {'Modelo': 'anthropic/claude-3.7-sonnet',\n",
       "  'Pregunta': '¿Cuánto es la raíz cuadrada de 4?',\n",
       "  'Respuesta': 'La raíz cuadrada de 4 es 2, porque 2² = 4.'},\n",
       " {'Modelo': 'anthropic/claude-3.7-sonnet',\n",
       "  'Pregunta': '¿Cuántas caras tiene un dado?',\n",
       "  'Respuesta': 'Un dado estándar tiene 6 caras. Cada cara contiene un número diferente del 1 al 6, representado generalmente por puntos (o \"pipas\").'},\n",
       " {'Modelo': 'anthropic/claude-3.7-sonnet',\n",
       "  'Pregunta': '¿Quién inventó la bombilla?',\n",
       "  'Respuesta': 'La bombilla o lámpara incandescente fue inventada por Thomas Alva Edison, quien la patentó en 1879. Aunque es importante mencionar que hubo otros inventores como Joseph Swan que trabajaron en diseños similares en la misma época, Edison creó la primera bombilla comercialmente práctica y duradera. Su innovación principal fue desarrollar un filamento carbonizado que podía durar muchas horas de uso continuo.'},\n",
       " {'Modelo': 'anthropic/claude-3.7-sonnet',\n",
       "  'Pregunta': 'Dame una lista de 5 ingredientes para una ensalada.',\n",
       "  'Respuesta': '# 5 Ingredientes para una Ensalada\\n\\n1. Lechuga fresca (romana, rúcula o mixta)\\n2. Tomates cherry\\n3. Pepino en rodajas\\n4. Aguacate en cubos\\n5. Queso feta desmenuzado\\n\\nCon estos ingredientes puedes preparar una ensalada básica y deliciosa. Puedes complementarla con un aderezo sencillo de aceite de oliva y limón.'}]"
      ]
     },
     "execution_count": 7,
     "metadata": {},
     "output_type": "execute_result"
    }
   ],
   "source": [
    "resultados"
   ]
  },
  {
   "cell_type": "code",
   "execution_count": 8,
   "metadata": {},
   "outputs": [
    {
     "name": "stdout",
     "output_type": "stream",
     "text": [
      "Archivo CSV 'respuestas_modelos.csv' creado con 20 respuestas.\n"
     ]
    }
   ],
   "source": [
    "nombre_archivo = \"respuestas_modelos.csv\"\n",
    "with open(nombre_archivo, mode=\"w\", newline=\"\", encoding=\"utf-8\") as archivo_csv:\n",
    "    campos = [\"Modelo\", \"Pregunta\", \"Respuesta\"]\n",
    "    escritor = csv.DictWriter(archivo_csv, fieldnames=campos)\n",
    "    escritor.writeheader()\n",
    "    escritor.writerows(resultados)\n",
    "\n",
    "print(f\"Archivo CSV '{nombre_archivo}' creado con {len(resultados)} respuestas.\")"
   ]
  },
  {
   "cell_type": "code",
   "execution_count": null,
   "metadata": {},
   "outputs": [
    {
     "data": {
      "text/plain": [
       "'Las gallinas ponen huevos. Estos huevos pueden ser utilizados para consumo humano en diversas preparaciones culinarias o para la incubación con el fin de criar más pollitos.'"
      ]
     },
     "execution_count": 12,
     "metadata": {},
     "output_type": "execute_result"
    }
   ],
   "source": [
    "import pandas as pd\n",
    "\n",
    "# Lee el archivo CSV y crea el DataFrame\n",
    "df = pd.read_csv(\"respuestas_modelos.csv\")\n",
    "\n",
    "# Muestra las primeras filas del DataFrame\n",
    "df[\"Respuesta\"][0]"
   ]
  }
 ],
 "metadata": {
  "kernelspec": {
   "display_name": "IN",
   "language": "python",
   "name": "python3"
  },
  "language_info": {
   "codemirror_mode": {
    "name": "ipython",
    "version": 3
   },
   "file_extension": ".py",
   "mimetype": "text/x-python",
   "name": "python",
   "nbconvert_exporter": "python",
   "pygments_lexer": "ipython3",
   "version": "3.9.21"
  }
 },
 "nbformat": 4,
 "nbformat_minor": 2
}
