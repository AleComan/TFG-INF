{
 "cells": [
  {
   "cell_type": "code",
   "execution_count": 16,
   "id": "a9eec02a",
   "metadata": {},
   "outputs": [],
   "source": [
    "import pandas as pd\n",
    "import csv\n",
    "\n",
    "BIO_RAW_PATH       = \"biografias_raw.csv\"\n",
    "FREQ_RAW_PATH      = \"../Capítulo primero/frecuentes.csv\"\n",
    "\n",
    "# Rutas de los CSV corregidos\n",
    "BIO_CORRECTED_PATH = \"biografias_raw_corrected.csv\"\n",
    "FREQ_CORRECTED_PATH= \"../Capítulo primero/frecuentes_corrected.csv\"\n",
    "\n",
    "# 1. Procesar biografias_raw.csv\n",
    "df_bio = pd.read_csv(BIO_RAW_PATH, encoding=\"utf-8\", quoting=csv.QUOTE_ALL)\n",
    "# Eliminar duplicados en la columna \"Name\", quedándose con la primera instancia\n",
    "df_bio_unique = df_bio.drop_duplicates(subset=[\"Name\"], keep=\"first\")\n",
    "# Guardar el CSV corregido\n",
    "df_bio_unique.to_csv(\n",
    "    BIO_CORRECTED_PATH,\n",
    "    index=False,\n",
    "    encoding=\"utf-8\",\n",
    "    quoting=csv.QUOTE_ALL\n",
    ")\n",
    "\n",
    "# 2. Procesar frecuentes.csv\n",
    "df_freq = pd.read_csv(FREQ_RAW_PATH, encoding=\"utf-8\")\n",
    "# Eliminar duplicados en la columna \"Name\", quedándose con la primera instancia\n",
    "df_freq_unique = df_freq.drop_duplicates(subset=[\"Name\"], keep=\"first\")\n",
    "# Guardar el CSV corregido\n",
    "df_freq_unique.to_csv(\n",
    "    FREQ_CORRECTED_PATH,\n",
    "    index=False,\n",
    "    encoding=\"utf-8\",\n",
    "    quoting=csv.QUOTE_ALL\n",
    ")"
   ]
  }
 ],
 "metadata": {
  "kernelspec": {
   "display_name": "IN",
   "language": "python",
   "name": "python3"
  },
  "language_info": {
   "codemirror_mode": {
    "name": "ipython",
    "version": 3
   },
   "file_extension": ".py",
   "mimetype": "text/x-python",
   "name": "python",
   "nbconvert_exporter": "python",
   "pygments_lexer": "ipython3",
   "version": "3.9.21"
  }
 },
 "nbformat": 4,
 "nbformat_minor": 5
}
